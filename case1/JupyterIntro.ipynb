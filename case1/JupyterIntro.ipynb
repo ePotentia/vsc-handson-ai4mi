{
 "cells": [
  {
   "cell_type": "markdown",
   "id": "52dae111-9ace-4473-b877-bef8a75c656a",
   "metadata": {},
   "source": [
    "# Jupyter introduction"
   ]
  },
  {
   "cell_type": "markdown",
   "id": "f5ab1f0a-cc26-4004-9cae-3bc91fad0b54",
   "metadata": {},
   "source": [
    "### Python\n",
    "\n",
    "Jupyter notebooks let you combine code, text and graphics in an interactive environment. The code is interpreted by the kernel, which is found at the top right of the screen.\n",
    "\n",
    "When the kernel is actively processing code, the sphere goes black.\n",
    "\n",
    "You can enter code in a code cell."
   ]
  },
  {
   "cell_type": "code",
   "execution_count": 1,
   "id": "03351bf8-03b9-4575-9bbc-a42effc524a3",
   "metadata": {},
   "outputs": [
    {
     "name": "stdout",
     "output_type": "stream",
     "text": [
      "Hello world\n"
     ]
    }
   ],
   "source": [
    "print('Hello world')"
   ]
  },
  {
   "cell_type": "markdown",
   "id": "36c8462d-f6ea-41c2-8089-65d525d41b36",
   "metadata": {},
   "source": [
    "While the code is processing it shows \\[*\\], when it is done it will show \\[1\\] a number. All variables are kept, so be careful with running code multiple times or out of order. \n",
    "\n",
    "You can reset your environment in the kernel menu at the top left kernel -> restart (and optionally run all)."
   ]
  },
  {
   "cell_type": "markdown",
   "id": "1736d35b-18c0-42f2-90bf-b40a3394954f",
   "metadata": {
    "tags": []
   },
   "source": [
    "### Markdown\n",
    "\n",
    "The text cells also allow formatting. You can switch between markdown and code in the top menu (or using the keys Y and M).\n",
    "\n",
    "\n",
    "Most useful are the headers:\n",
    "\n",
    "```\n",
    "# Biggest text\n",
    "## Big text\n",
    "### Medium  text\n",
    "\n",
    "**bold**\n",
    "*italic*\n",
    "\n",
    "* bullet point 1 \n",
    "* bullet point 2\n",
    "* ...\n",
    "```\n",
    "\n",
    "More information can be found on your cheat sheet."
   ]
  },
  {
   "cell_type": "code",
   "execution_count": null,
   "id": "a2fcfb0a-a7ae-4446-97b9-c41619895bae",
   "metadata": {
    "tags": []
   },
   "outputs": [],
   "source": [
    "b"
   ]
  },
  {
   "cell_type": "code",
   "execution_count": null,
   "id": "7fc6ef53-1652-4175-aa1f-414cf8446411",
   "metadata": {},
   "outputs": [],
   "source": []
  },
  {
   "cell_type": "markdown",
   "id": "8f4c59b4-7ace-497d-9a57-8b69c876d04b",
   "metadata": {
    "tags": []
   },
   "source": [
    "## Jupyter lab\n",
    "\n",
    "Today we'll be working in Jupyter lab, instead of normal jupyter notebooks. The main difference is you have a file manager to the left, including an overview of running kernels, and you can have multiple notebooks open in one browser tab. You can even drag them next to eachother or open a terminal.\n",
    "\n",
    "In all versions of jupyter there are some hotkeys that can help you run faster. \n",
    "\n",
    "* Shift + Enter: will run a cell and go to the next\n",
    "* a: will add a cell above\n",
    "* b: will add a cell below\n",
    "* dd: will delete a cell\n",
    "* x: will cut a cell\n",
    "* c: will copy a cell\n",
    "* v: will paste a cell below\n",
    "* shift + v: will paste it above\n",
    "* Y: switch to code\n",
    "* M: switch to markdown\n",
    "\n",
    "Google jupyter hotkeys and you'll find many more.\n",
    "\n",
    "Maybe most important is that you can get more information about your python code."
   ]
  },
  {
   "cell_type": "code",
   "execution_count": 1,
   "id": "ad18b4f0-cbd9-4da0-8926-1e90a6184452",
   "metadata": {},
   "outputs": [
    {
     "data": {
      "text/plain": [
       "\u001b[0;31mDocstring:\u001b[0m\n",
       "print(value, ..., sep=' ', end='\\n', file=sys.stdout, flush=False)\n",
       "\n",
       "Prints the values to a stream, or to sys.stdout by default.\n",
       "Optional keyword arguments:\n",
       "file:  a file-like object (stream); defaults to the current sys.stdout.\n",
       "sep:   string inserted between values, default a space.\n",
       "end:   string appended after the last value, default a newline.\n",
       "flush: whether to forcibly flush the stream.\n",
       "\u001b[0;31mType:\u001b[0m      builtin_function_or_method\n"
      ]
     },
     "metadata": {},
     "output_type": "display_data"
    }
   ],
   "source": [
    "?print"
   ]
  },
  {
   "cell_type": "code",
   "execution_count": 2,
   "id": "8d7909ac-cb1c-425b-803d-3ce7ff21606c",
   "metadata": {},
   "outputs": [
    {
     "data": {
      "text/plain": [
       "\u001b[0;31mDocstring:\u001b[0m\n",
       "print(value, ..., sep=' ', end='\\n', file=sys.stdout, flush=False)\n",
       "\n",
       "Prints the values to a stream, or to sys.stdout by default.\n",
       "Optional keyword arguments:\n",
       "file:  a file-like object (stream); defaults to the current sys.stdout.\n",
       "sep:   string inserted between values, default a space.\n",
       "end:   string appended after the last value, default a newline.\n",
       "flush: whether to forcibly flush the stream.\n",
       "\u001b[0;31mType:\u001b[0m      builtin_function_or_method\n"
      ]
     },
     "metadata": {},
     "output_type": "display_data"
    }
   ],
   "source": [
    "??print"
   ]
  },
  {
   "cell_type": "code",
   "execution_count": 3,
   "id": "8974b795-10db-4f7f-8ae1-6138af7563b9",
   "metadata": {},
   "outputs": [
    {
     "name": "stdout",
     "output_type": "stream",
     "text": [
      "Help on built-in function print in module builtins:\n",
      "\n",
      "print(...)\n",
      "    print(value, ..., sep=' ', end='\\n', file=sys.stdout, flush=False)\n",
      "    \n",
      "    Prints the values to a stream, or to sys.stdout by default.\n",
      "    Optional keyword arguments:\n",
      "    file:  a file-like object (stream); defaults to the current sys.stdout.\n",
      "    sep:   string inserted between values, default a space.\n",
      "    end:   string appended after the last value, default a newline.\n",
      "    flush: whether to forcibly flush the stream.\n",
      "\n"
     ]
    }
   ],
   "source": [
    "help(print)"
   ]
  },
  {
   "cell_type": "code",
   "execution_count": null,
   "id": "390353ca-b3c5-463f-852f-f7b365989286",
   "metadata": {},
   "outputs": [],
   "source": []
  }
 ],
 "metadata": {
  "kernelspec": {
   "display_name": "Python 3 (ipykernel)",
   "language": "python",
   "name": "python3"
  },
  "language_info": {
   "codemirror_mode": {
    "name": "ipython",
    "version": 3
   },
   "file_extension": ".py",
   "mimetype": "text/x-python",
   "name": "python",
   "nbconvert_exporter": "python",
   "pygments_lexer": "ipython3",
   "version": "3.9.12"
  },
  "toc-showcode": false
 },
 "nbformat": 4,
 "nbformat_minor": 5
}
